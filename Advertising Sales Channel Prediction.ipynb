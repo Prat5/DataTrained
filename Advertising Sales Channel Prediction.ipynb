{
 "cells": [
  {
   "cell_type": "code",
   "execution_count": 1,
   "id": "5711fe3b",
   "metadata": {},
   "outputs": [],
   "source": [
    "import numpy as np\n",
    "import pandas as pd\n",
    "import seaborn as sns\n",
    "import matplotlib.pyplot as plt\n",
    "import warnings\n",
    "warnings.filterwarnings('ignore')"
   ]
  },
  {
   "cell_type": "code",
   "execution_count": 2,
   "id": "7ab21627",
   "metadata": {},
   "outputs": [
    {
     "data": {
      "text/html": [
       "<div>\n",
       "<style scoped>\n",
       "    .dataframe tbody tr th:only-of-type {\n",
       "        vertical-align: middle;\n",
       "    }\n",
       "\n",
       "    .dataframe tbody tr th {\n",
       "        vertical-align: top;\n",
       "    }\n",
       "\n",
       "    .dataframe thead th {\n",
       "        text-align: right;\n",
       "    }\n",
       "</style>\n",
       "<table border=\"1\" class=\"dataframe\">\n",
       "  <thead>\n",
       "    <tr style=\"text-align: right;\">\n",
       "      <th></th>\n",
       "      <th>Unnamed: 0</th>\n",
       "      <th>TV</th>\n",
       "      <th>radio</th>\n",
       "      <th>newspaper</th>\n",
       "      <th>sales</th>\n",
       "    </tr>\n",
       "  </thead>\n",
       "  <tbody>\n",
       "    <tr>\n",
       "      <th>0</th>\n",
       "      <td>1</td>\n",
       "      <td>230.1</td>\n",
       "      <td>37.8</td>\n",
       "      <td>69.2</td>\n",
       "      <td>22.1</td>\n",
       "    </tr>\n",
       "    <tr>\n",
       "      <th>1</th>\n",
       "      <td>2</td>\n",
       "      <td>44.5</td>\n",
       "      <td>39.3</td>\n",
       "      <td>45.1</td>\n",
       "      <td>10.4</td>\n",
       "    </tr>\n",
       "    <tr>\n",
       "      <th>2</th>\n",
       "      <td>3</td>\n",
       "      <td>17.2</td>\n",
       "      <td>45.9</td>\n",
       "      <td>69.3</td>\n",
       "      <td>9.3</td>\n",
       "    </tr>\n",
       "    <tr>\n",
       "      <th>3</th>\n",
       "      <td>4</td>\n",
       "      <td>151.5</td>\n",
       "      <td>41.3</td>\n",
       "      <td>58.5</td>\n",
       "      <td>18.5</td>\n",
       "    </tr>\n",
       "    <tr>\n",
       "      <th>4</th>\n",
       "      <td>5</td>\n",
       "      <td>180.8</td>\n",
       "      <td>10.8</td>\n",
       "      <td>58.4</td>\n",
       "      <td>12.9</td>\n",
       "    </tr>\n",
       "    <tr>\n",
       "      <th>...</th>\n",
       "      <td>...</td>\n",
       "      <td>...</td>\n",
       "      <td>...</td>\n",
       "      <td>...</td>\n",
       "      <td>...</td>\n",
       "    </tr>\n",
       "    <tr>\n",
       "      <th>195</th>\n",
       "      <td>196</td>\n",
       "      <td>38.2</td>\n",
       "      <td>3.7</td>\n",
       "      <td>13.8</td>\n",
       "      <td>7.6</td>\n",
       "    </tr>\n",
       "    <tr>\n",
       "      <th>196</th>\n",
       "      <td>197</td>\n",
       "      <td>94.2</td>\n",
       "      <td>4.9</td>\n",
       "      <td>8.1</td>\n",
       "      <td>9.7</td>\n",
       "    </tr>\n",
       "    <tr>\n",
       "      <th>197</th>\n",
       "      <td>198</td>\n",
       "      <td>177.0</td>\n",
       "      <td>9.3</td>\n",
       "      <td>6.4</td>\n",
       "      <td>12.8</td>\n",
       "    </tr>\n",
       "    <tr>\n",
       "      <th>198</th>\n",
       "      <td>199</td>\n",
       "      <td>283.6</td>\n",
       "      <td>42.0</td>\n",
       "      <td>66.2</td>\n",
       "      <td>25.5</td>\n",
       "    </tr>\n",
       "    <tr>\n",
       "      <th>199</th>\n",
       "      <td>200</td>\n",
       "      <td>232.1</td>\n",
       "      <td>8.6</td>\n",
       "      <td>8.7</td>\n",
       "      <td>13.4</td>\n",
       "    </tr>\n",
       "  </tbody>\n",
       "</table>\n",
       "<p>200 rows × 5 columns</p>\n",
       "</div>"
      ],
      "text/plain": [
       "     Unnamed: 0     TV  radio  newspaper  sales\n",
       "0             1  230.1   37.8       69.2   22.1\n",
       "1             2   44.5   39.3       45.1   10.4\n",
       "2             3   17.2   45.9       69.3    9.3\n",
       "3             4  151.5   41.3       58.5   18.5\n",
       "4             5  180.8   10.8       58.4   12.9\n",
       "..          ...    ...    ...        ...    ...\n",
       "195         196   38.2    3.7       13.8    7.6\n",
       "196         197   94.2    4.9        8.1    9.7\n",
       "197         198  177.0    9.3        6.4   12.8\n",
       "198         199  283.6   42.0       66.2   25.5\n",
       "199         200  232.1    8.6        8.7   13.4\n",
       "\n",
       "[200 rows x 5 columns]"
      ]
     },
     "execution_count": 2,
     "metadata": {},
     "output_type": "execute_result"
    }
   ],
   "source": [
    "df = pd.read_csv('Advertising.csv')\n",
    "df"
   ]
  },
  {
   "cell_type": "code",
   "execution_count": 3,
   "id": "978d1406",
   "metadata": {},
   "outputs": [
    {
     "name": "stdout",
     "output_type": "stream",
     "text": [
      "<class 'pandas.core.frame.DataFrame'>\n",
      "RangeIndex: 200 entries, 0 to 199\n",
      "Data columns (total 5 columns):\n",
      " #   Column      Non-Null Count  Dtype  \n",
      "---  ------      --------------  -----  \n",
      " 0   Unnamed: 0  200 non-null    int64  \n",
      " 1   TV          200 non-null    float64\n",
      " 2   radio       200 non-null    float64\n",
      " 3   newspaper   200 non-null    float64\n",
      " 4   sales       200 non-null    float64\n",
      "dtypes: float64(4), int64(1)\n",
      "memory usage: 7.9 KB\n"
     ]
    }
   ],
   "source": [
    "df.info()"
   ]
  },
  {
   "cell_type": "markdown",
   "id": "940cfc83",
   "metadata": {},
   "source": [
    "We see that we do not have any categorical columns."
   ]
  },
  {
   "cell_type": "markdown",
   "id": "dd667e45",
   "metadata": {},
   "source": [
    "We see that the First Column is just the index numbers hence we could drop the column"
   ]
  },
  {
   "cell_type": "code",
   "execution_count": 4,
   "id": "45eea34b",
   "metadata": {},
   "outputs": [],
   "source": [
    "df.drop('Unnamed: 0',axis=1,inplace=True)"
   ]
  },
  {
   "cell_type": "code",
   "execution_count": 5,
   "id": "d25a387b",
   "metadata": {},
   "outputs": [
    {
     "data": {
      "text/html": [
       "<div>\n",
       "<style scoped>\n",
       "    .dataframe tbody tr th:only-of-type {\n",
       "        vertical-align: middle;\n",
       "    }\n",
       "\n",
       "    .dataframe tbody tr th {\n",
       "        vertical-align: top;\n",
       "    }\n",
       "\n",
       "    .dataframe thead th {\n",
       "        text-align: right;\n",
       "    }\n",
       "</style>\n",
       "<table border=\"1\" class=\"dataframe\">\n",
       "  <thead>\n",
       "    <tr style=\"text-align: right;\">\n",
       "      <th></th>\n",
       "      <th>TV</th>\n",
       "      <th>radio</th>\n",
       "      <th>newspaper</th>\n",
       "      <th>sales</th>\n",
       "    </tr>\n",
       "  </thead>\n",
       "  <tbody>\n",
       "    <tr>\n",
       "      <th>0</th>\n",
       "      <td>230.1</td>\n",
       "      <td>37.8</td>\n",
       "      <td>69.2</td>\n",
       "      <td>22.1</td>\n",
       "    </tr>\n",
       "    <tr>\n",
       "      <th>1</th>\n",
       "      <td>44.5</td>\n",
       "      <td>39.3</td>\n",
       "      <td>45.1</td>\n",
       "      <td>10.4</td>\n",
       "    </tr>\n",
       "    <tr>\n",
       "      <th>2</th>\n",
       "      <td>17.2</td>\n",
       "      <td>45.9</td>\n",
       "      <td>69.3</td>\n",
       "      <td>9.3</td>\n",
       "    </tr>\n",
       "    <tr>\n",
       "      <th>3</th>\n",
       "      <td>151.5</td>\n",
       "      <td>41.3</td>\n",
       "      <td>58.5</td>\n",
       "      <td>18.5</td>\n",
       "    </tr>\n",
       "    <tr>\n",
       "      <th>4</th>\n",
       "      <td>180.8</td>\n",
       "      <td>10.8</td>\n",
       "      <td>58.4</td>\n",
       "      <td>12.9</td>\n",
       "    </tr>\n",
       "    <tr>\n",
       "      <th>...</th>\n",
       "      <td>...</td>\n",
       "      <td>...</td>\n",
       "      <td>...</td>\n",
       "      <td>...</td>\n",
       "    </tr>\n",
       "    <tr>\n",
       "      <th>195</th>\n",
       "      <td>38.2</td>\n",
       "      <td>3.7</td>\n",
       "      <td>13.8</td>\n",
       "      <td>7.6</td>\n",
       "    </tr>\n",
       "    <tr>\n",
       "      <th>196</th>\n",
       "      <td>94.2</td>\n",
       "      <td>4.9</td>\n",
       "      <td>8.1</td>\n",
       "      <td>9.7</td>\n",
       "    </tr>\n",
       "    <tr>\n",
       "      <th>197</th>\n",
       "      <td>177.0</td>\n",
       "      <td>9.3</td>\n",
       "      <td>6.4</td>\n",
       "      <td>12.8</td>\n",
       "    </tr>\n",
       "    <tr>\n",
       "      <th>198</th>\n",
       "      <td>283.6</td>\n",
       "      <td>42.0</td>\n",
       "      <td>66.2</td>\n",
       "      <td>25.5</td>\n",
       "    </tr>\n",
       "    <tr>\n",
       "      <th>199</th>\n",
       "      <td>232.1</td>\n",
       "      <td>8.6</td>\n",
       "      <td>8.7</td>\n",
       "      <td>13.4</td>\n",
       "    </tr>\n",
       "  </tbody>\n",
       "</table>\n",
       "<p>200 rows × 4 columns</p>\n",
       "</div>"
      ],
      "text/plain": [
       "        TV  radio  newspaper  sales\n",
       "0    230.1   37.8       69.2   22.1\n",
       "1     44.5   39.3       45.1   10.4\n",
       "2     17.2   45.9       69.3    9.3\n",
       "3    151.5   41.3       58.5   18.5\n",
       "4    180.8   10.8       58.4   12.9\n",
       "..     ...    ...        ...    ...\n",
       "195   38.2    3.7       13.8    7.6\n",
       "196   94.2    4.9        8.1    9.7\n",
       "197  177.0    9.3        6.4   12.8\n",
       "198  283.6   42.0       66.2   25.5\n",
       "199  232.1    8.6        8.7   13.4\n",
       "\n",
       "[200 rows x 4 columns]"
      ]
     },
     "execution_count": 5,
     "metadata": {},
     "output_type": "execute_result"
    }
   ],
   "source": [
    "df"
   ]
  },
  {
   "cell_type": "code",
   "execution_count": 6,
   "id": "9adfde7b",
   "metadata": {},
   "outputs": [
    {
     "data": {
      "text/plain": [
       "False"
      ]
     },
     "execution_count": 6,
     "metadata": {},
     "output_type": "execute_result"
    }
   ],
   "source": [
    "df.isnull().sum().any()"
   ]
  },
  {
   "cell_type": "markdown",
   "id": "13192486",
   "metadata": {},
   "source": [
    "We see that we do not have any null values"
   ]
  },
  {
   "cell_type": "code",
   "execution_count": 7,
   "id": "1f692b12",
   "metadata": {},
   "outputs": [
    {
     "data": {
      "text/html": [
       "<div>\n",
       "<style scoped>\n",
       "    .dataframe tbody tr th:only-of-type {\n",
       "        vertical-align: middle;\n",
       "    }\n",
       "\n",
       "    .dataframe tbody tr th {\n",
       "        vertical-align: top;\n",
       "    }\n",
       "\n",
       "    .dataframe thead th {\n",
       "        text-align: right;\n",
       "    }\n",
       "</style>\n",
       "<table border=\"1\" class=\"dataframe\">\n",
       "  <thead>\n",
       "    <tr style=\"text-align: right;\">\n",
       "      <th></th>\n",
       "      <th>TV</th>\n",
       "      <th>radio</th>\n",
       "      <th>newspaper</th>\n",
       "      <th>sales</th>\n",
       "    </tr>\n",
       "  </thead>\n",
       "  <tbody>\n",
       "    <tr>\n",
       "      <th>count</th>\n",
       "      <td>200.000000</td>\n",
       "      <td>200.000000</td>\n",
       "      <td>200.000000</td>\n",
       "      <td>200.000000</td>\n",
       "    </tr>\n",
       "    <tr>\n",
       "      <th>mean</th>\n",
       "      <td>147.042500</td>\n",
       "      <td>23.264000</td>\n",
       "      <td>30.554000</td>\n",
       "      <td>14.022500</td>\n",
       "    </tr>\n",
       "    <tr>\n",
       "      <th>std</th>\n",
       "      <td>85.854236</td>\n",
       "      <td>14.846809</td>\n",
       "      <td>21.778621</td>\n",
       "      <td>5.217457</td>\n",
       "    </tr>\n",
       "    <tr>\n",
       "      <th>min</th>\n",
       "      <td>0.700000</td>\n",
       "      <td>0.000000</td>\n",
       "      <td>0.300000</td>\n",
       "      <td>1.600000</td>\n",
       "    </tr>\n",
       "    <tr>\n",
       "      <th>25%</th>\n",
       "      <td>74.375000</td>\n",
       "      <td>9.975000</td>\n",
       "      <td>12.750000</td>\n",
       "      <td>10.375000</td>\n",
       "    </tr>\n",
       "    <tr>\n",
       "      <th>50%</th>\n",
       "      <td>149.750000</td>\n",
       "      <td>22.900000</td>\n",
       "      <td>25.750000</td>\n",
       "      <td>12.900000</td>\n",
       "    </tr>\n",
       "    <tr>\n",
       "      <th>75%</th>\n",
       "      <td>218.825000</td>\n",
       "      <td>36.525000</td>\n",
       "      <td>45.100000</td>\n",
       "      <td>17.400000</td>\n",
       "    </tr>\n",
       "    <tr>\n",
       "      <th>max</th>\n",
       "      <td>296.400000</td>\n",
       "      <td>49.600000</td>\n",
       "      <td>114.000000</td>\n",
       "      <td>27.000000</td>\n",
       "    </tr>\n",
       "  </tbody>\n",
       "</table>\n",
       "</div>"
      ],
      "text/plain": [
       "               TV       radio   newspaper       sales\n",
       "count  200.000000  200.000000  200.000000  200.000000\n",
       "mean   147.042500   23.264000   30.554000   14.022500\n",
       "std     85.854236   14.846809   21.778621    5.217457\n",
       "min      0.700000    0.000000    0.300000    1.600000\n",
       "25%     74.375000    9.975000   12.750000   10.375000\n",
       "50%    149.750000   22.900000   25.750000   12.900000\n",
       "75%    218.825000   36.525000   45.100000   17.400000\n",
       "max    296.400000   49.600000  114.000000   27.000000"
      ]
     },
     "execution_count": 7,
     "metadata": {},
     "output_type": "execute_result"
    }
   ],
   "source": [
    "df.describe()"
   ]
  },
  {
   "cell_type": "markdown",
   "id": "0dadd1a3",
   "metadata": {},
   "source": [
    "We see that the minimum value in radio is 0. It may be a case where in radio was not chosen as a medium for advertisement or may be a error, lets check"
   ]
  },
  {
   "cell_type": "code",
   "execution_count": 8,
   "id": "37e63dfc",
   "metadata": {},
   "outputs": [
    {
     "data": {
      "text/html": [
       "<div>\n",
       "<style scoped>\n",
       "    .dataframe tbody tr th:only-of-type {\n",
       "        vertical-align: middle;\n",
       "    }\n",
       "\n",
       "    .dataframe tbody tr th {\n",
       "        vertical-align: top;\n",
       "    }\n",
       "\n",
       "    .dataframe thead th {\n",
       "        text-align: right;\n",
       "    }\n",
       "</style>\n",
       "<table border=\"1\" class=\"dataframe\">\n",
       "  <thead>\n",
       "    <tr style=\"text-align: right;\">\n",
       "      <th></th>\n",
       "      <th>TV</th>\n",
       "      <th>radio</th>\n",
       "      <th>newspaper</th>\n",
       "      <th>sales</th>\n",
       "    </tr>\n",
       "  </thead>\n",
       "  <tbody>\n",
       "    <tr>\n",
       "      <th>127</th>\n",
       "      <td>80.2</td>\n",
       "      <td>0.0</td>\n",
       "      <td>9.2</td>\n",
       "      <td>8.8</td>\n",
       "    </tr>\n",
       "  </tbody>\n",
       "</table>\n",
       "</div>"
      ],
      "text/plain": [
       "       TV  radio  newspaper  sales\n",
       "127  80.2    0.0        9.2    8.8"
      ]
     },
     "execution_count": 8,
     "metadata": {},
     "output_type": "execute_result"
    }
   ],
   "source": [
    "df[df['radio']==0]"
   ]
  },
  {
   "cell_type": "markdown",
   "id": "3157c412",
   "metadata": {},
   "source": [
    "We see that there is only 1 row where in the radio is 0 hence we could drop it presuming it to be an error"
   ]
  },
  {
   "cell_type": "code",
   "execution_count": 9,
   "id": "9c4fae88",
   "metadata": {},
   "outputs": [],
   "source": [
    "df.drop(127,axis=0,inplace=True)"
   ]
  },
  {
   "cell_type": "code",
   "execution_count": 10,
   "id": "184e4a95",
   "metadata": {},
   "outputs": [
    {
     "data": {
      "text/html": [
       "<div>\n",
       "<style scoped>\n",
       "    .dataframe tbody tr th:only-of-type {\n",
       "        vertical-align: middle;\n",
       "    }\n",
       "\n",
       "    .dataframe tbody tr th {\n",
       "        vertical-align: top;\n",
       "    }\n",
       "\n",
       "    .dataframe thead th {\n",
       "        text-align: right;\n",
       "    }\n",
       "</style>\n",
       "<table border=\"1\" class=\"dataframe\">\n",
       "  <thead>\n",
       "    <tr style=\"text-align: right;\">\n",
       "      <th></th>\n",
       "      <th>TV</th>\n",
       "      <th>radio</th>\n",
       "      <th>newspaper</th>\n",
       "      <th>sales</th>\n",
       "    </tr>\n",
       "  </thead>\n",
       "  <tbody>\n",
       "    <tr>\n",
       "      <th>0</th>\n",
       "      <td>230.1</td>\n",
       "      <td>37.8</td>\n",
       "      <td>69.2</td>\n",
       "      <td>22.1</td>\n",
       "    </tr>\n",
       "    <tr>\n",
       "      <th>1</th>\n",
       "      <td>44.5</td>\n",
       "      <td>39.3</td>\n",
       "      <td>45.1</td>\n",
       "      <td>10.4</td>\n",
       "    </tr>\n",
       "    <tr>\n",
       "      <th>2</th>\n",
       "      <td>17.2</td>\n",
       "      <td>45.9</td>\n",
       "      <td>69.3</td>\n",
       "      <td>9.3</td>\n",
       "    </tr>\n",
       "    <tr>\n",
       "      <th>3</th>\n",
       "      <td>151.5</td>\n",
       "      <td>41.3</td>\n",
       "      <td>58.5</td>\n",
       "      <td>18.5</td>\n",
       "    </tr>\n",
       "    <tr>\n",
       "      <th>4</th>\n",
       "      <td>180.8</td>\n",
       "      <td>10.8</td>\n",
       "      <td>58.4</td>\n",
       "      <td>12.9</td>\n",
       "    </tr>\n",
       "    <tr>\n",
       "      <th>...</th>\n",
       "      <td>...</td>\n",
       "      <td>...</td>\n",
       "      <td>...</td>\n",
       "      <td>...</td>\n",
       "    </tr>\n",
       "    <tr>\n",
       "      <th>195</th>\n",
       "      <td>38.2</td>\n",
       "      <td>3.7</td>\n",
       "      <td>13.8</td>\n",
       "      <td>7.6</td>\n",
       "    </tr>\n",
       "    <tr>\n",
       "      <th>196</th>\n",
       "      <td>94.2</td>\n",
       "      <td>4.9</td>\n",
       "      <td>8.1</td>\n",
       "      <td>9.7</td>\n",
       "    </tr>\n",
       "    <tr>\n",
       "      <th>197</th>\n",
       "      <td>177.0</td>\n",
       "      <td>9.3</td>\n",
       "      <td>6.4</td>\n",
       "      <td>12.8</td>\n",
       "    </tr>\n",
       "    <tr>\n",
       "      <th>198</th>\n",
       "      <td>283.6</td>\n",
       "      <td>42.0</td>\n",
       "      <td>66.2</td>\n",
       "      <td>25.5</td>\n",
       "    </tr>\n",
       "    <tr>\n",
       "      <th>199</th>\n",
       "      <td>232.1</td>\n",
       "      <td>8.6</td>\n",
       "      <td>8.7</td>\n",
       "      <td>13.4</td>\n",
       "    </tr>\n",
       "  </tbody>\n",
       "</table>\n",
       "<p>199 rows × 4 columns</p>\n",
       "</div>"
      ],
      "text/plain": [
       "        TV  radio  newspaper  sales\n",
       "0    230.1   37.8       69.2   22.1\n",
       "1     44.5   39.3       45.1   10.4\n",
       "2     17.2   45.9       69.3    9.3\n",
       "3    151.5   41.3       58.5   18.5\n",
       "4    180.8   10.8       58.4   12.9\n",
       "..     ...    ...        ...    ...\n",
       "195   38.2    3.7       13.8    7.6\n",
       "196   94.2    4.9        8.1    9.7\n",
       "197  177.0    9.3        6.4   12.8\n",
       "198  283.6   42.0       66.2   25.5\n",
       "199  232.1    8.6        8.7   13.4\n",
       "\n",
       "[199 rows x 4 columns]"
      ]
     },
     "execution_count": 10,
     "metadata": {},
     "output_type": "execute_result"
    }
   ],
   "source": [
    "df"
   ]
  },
  {
   "cell_type": "code",
   "execution_count": 11,
   "id": "c295eeea",
   "metadata": {},
   "outputs": [
    {
     "data": {
      "text/plain": [
       "<AxesSubplot:xlabel='TV', ylabel='sales'>"
      ]
     },
     "execution_count": 11,
     "metadata": {},
     "output_type": "execute_result"
    },
    {
     "data": {
      "image/png": "[encoded data removed]",
      "text/plain": [
       "<Figure size 432x288 with 1 Axes>"
      ]
     },
     "metadata": {
      "needs_background": "light"
     },
     "output_type": "display_data"
    }
   ],
   "source": [
    "sns.regplot(x = df['TV'],y=df['sales'],color='green')"
   ]
  },
  {
   "cell_type": "markdown",
   "id": "ec1955bc",
   "metadata": {},
   "source": [
    "We see that as the spend on TV insreases, so thus the sales"
   ]
  },
  {
   "cell_type": "code",
   "execution_count": 12,
   "id": "3d9302d1",
   "metadata": {},
   "outputs": [
    {
     "data": {
      "text/plain": [
       "<AxesSubplot:xlabel='radio', ylabel='sales'>"
      ]
     },
     "execution_count": 12,
     "metadata": {},
     "output_type": "execute_result"
    },
    {
     "data": {
      "image/png": "[encoded data removed]",
      "text/plain": [
       "<Figure size 432x288 with 1 Axes>"
      ]
     },
     "metadata": {
      "needs_background": "light"
     },
     "output_type": "display_data"
    }
   ],
   "source": [
    "sns.regplot(x = df['radio'],y=df['sales'],color='green')"
   ]
  },
  {
   "cell_type": "markdown",
   "id": "81341e3f",
   "metadata": {},
   "source": [
    "We see that as the spend on Radio insreases, so thus the sales"
   ]
  },
  {
   "cell_type": "code",
   "execution_count": 13,
   "id": "62702726",
   "metadata": {},
   "outputs": [
    {
     "data": {
      "text/plain": [
       "<AxesSubplot:xlabel='newspaper', ylabel='sales'>"
      ]
     },
     "execution_count": 13,
     "metadata": {},
     "output_type": "execute_result"
    },
    {
     "data": {
      "image/png": "[encoded data removed]",
      "text/plain": [
       "<Figure size 432x288 with 1 Axes>"
      ]
     },
     "metadata": {
      "needs_background": "light"
     },
     "output_type": "display_data"
    }
   ],
   "source": [
    "sns.regplot(x=df['newspaper'],y=df['sales'],color='green')"
   ]
  },
  {
   "cell_type": "markdown",
   "id": "a3e5b23e",
   "metadata": {},
   "source": [
    "We see that as the spend on Newspaper insreases, so thus the sales"
   ]
  },
  {
   "cell_type": "code",
   "execution_count": 14,
   "id": "f01e2138",
   "metadata": {},
   "outputs": [
    {
     "data": {
      "text/plain": [
       "<seaborn.axisgrid.PairGrid at 0x24af22bfd90>"
      ]
     },
     "execution_count": 14,
     "metadata": {},
     "output_type": "execute_result"
    },
    {
     "data": {
      "image/png": "[encoded data removed]",
      "text/plain": [
       "<Figure size 720x720 with 20 Axes>"
      ]
     },
     "metadata": {
      "needs_background": "light"
     },
     "output_type": "display_data"
    }
   ],
   "source": [
    "sns.pairplot(df,diag_kind='kde',kind='reg')"
   ]
  },
  {
   "cell_type": "markdown",
   "id": "6691d5f8",
   "metadata": {},
   "source": [
    "We see that the TV vs Sales follows a linear distribution, we see there is noise in data and the data us not normally distributed"
   ]
  },
  {
   "cell_type": "markdown",
   "id": "22df2e47",
   "metadata": {},
   "source": [
    "### Checking Correlation"
   ]
  },
  {
   "cell_type": "code",
   "execution_count": 15,
   "id": "1be6d30f",
   "metadata": {},
   "outputs": [
    {
     "data": {
      "text/html": [
       "<div>\n",
       "<style scoped>\n",
       "    .dataframe tbody tr th:only-of-type {\n",
       "        vertical-align: middle;\n",
       "    }\n",
       "\n",
       "    .dataframe tbody tr th {\n",
       "        vertical-align: top;\n",
       "    }\n",
       "\n",
       "    .dataframe thead th {\n",
       "        text-align: right;\n",
       "    }\n",
       "</style>\n",
       "<table border=\"1\" class=\"dataframe\">\n",
       "  <thead>\n",
       "    <tr style=\"text-align: right;\">\n",
       "      <th></th>\n",
       "      <th>TV</th>\n",
       "      <th>radio</th>\n",
       "      <th>newspaper</th>\n",
       "      <th>sales</th>\n",
       "    </tr>\n",
       "  </thead>\n",
       "  <tbody>\n",
       "    <tr>\n",
       "      <th>TV</th>\n",
       "      <td>1.000000</td>\n",
       "      <td>0.049027</td>\n",
       "      <td>0.053002</td>\n",
       "      <td>0.781462</td>\n",
       "    </tr>\n",
       "    <tr>\n",
       "      <th>radio</th>\n",
       "      <td>0.049027</td>\n",
       "      <td>1.000000</td>\n",
       "      <td>0.349361</td>\n",
       "      <td>0.573310</td>\n",
       "    </tr>\n",
       "    <tr>\n",
       "      <th>newspaper</th>\n",
       "      <td>0.053002</td>\n",
       "      <td>0.349361</td>\n",
       "      <td>1.000000</td>\n",
       "      <td>0.224455</td>\n",
       "    </tr>\n",
       "    <tr>\n",
       "      <th>sales</th>\n",
       "      <td>0.781462</td>\n",
       "      <td>0.573310</td>\n",
       "      <td>0.224455</td>\n",
       "      <td>1.000000</td>\n",
       "    </tr>\n",
       "  </tbody>\n",
       "</table>\n",
       "</div>"
      ],
      "text/plain": [
       "                 TV     radio  newspaper     sales\n",
       "TV         1.000000  0.049027   0.053002  0.781462\n",
       "radio      0.049027  1.000000   0.349361  0.573310\n",
       "newspaper  0.053002  0.349361   1.000000  0.224455\n",
       "sales      0.781462  0.573310   0.224455  1.000000"
      ]
     },
     "execution_count": 15,
     "metadata": {},
     "output_type": "execute_result"
    }
   ],
   "source": [
    "df.corr()"
   ]
  },
  {
   "cell_type": "code",
   "execution_count": 16,
   "id": "e6056b4c",
   "metadata": {},
   "outputs": [
    {
     "data": {
      "text/plain": [
       "<AxesSubplot:>"
      ]
     },
     "execution_count": 16,
     "metadata": {},
     "output_type": "execute_result"
    },
    {
     "data": {
      "image/png": "[encoded data removed]",
      "text/plain": [
       "<Figure size 432x288 with 2 Axes>"
      ]
     },
     "metadata": {
      "needs_background": "light"
     },
     "output_type": "display_data"
    }
   ],
   "source": [
    "sns.heatmap(df.corr(),annot=True,cmap='coolwarm')"
   ]
  },
  {
   "cell_type": "markdown",
   "id": "49f6cbf9",
   "metadata": {},
   "source": [
    "From above, we see that TV has the highest correlation with Sales and newspaper has the lowest correlation"
   ]
  },
  {
   "cell_type": "markdown",
   "id": "7dadad7c",
   "metadata": {},
   "source": [
    "### Checking Skewness"
   ]
  },
  {
   "cell_type": "code",
   "execution_count": 17,
   "id": "e58d94aa",
   "metadata": {},
   "outputs": [
    {
     "data": {
      "image/png": "[encoded data removed]",
      "text/plain": [
       "<Figure size 1584x432 with 4 Axes>"
      ]
     },
     "metadata": {
      "needs_background": "light"
     },
     "output_type": "display_data"
    }
   ],
   "source": [
    "df.plot(kind='density',subplots=True,sharex=False,layout=(1,4),figsize=(22,6))\n",
    "plt.show()"
   ]
  },
  {
   "cell_type": "code",
   "execution_count": 18,
   "id": "98595562",
   "metadata": {},
   "outputs": [
    {
     "data": {
      "text/plain": [
       "TV          -0.079446\n",
       "radio        0.091614\n",
       "newspaper    0.888932\n",
       "sales        0.399546\n",
       "dtype: float64"
      ]
     },
     "execution_count": 18,
     "metadata": {},
     "output_type": "execute_result"
    }
   ],
   "source": [
    "df.skew()"
   ]
  },
  {
   "cell_type": "markdown",
   "id": "f0950b3e",
   "metadata": {},
   "source": [
    "Setting the threshold for the skewness as +/-0.5, we see that newspaper has higher skewness"
   ]
  },
  {
   "cell_type": "markdown",
   "id": "e351f124",
   "metadata": {},
   "source": [
    "### Checking Outliers"
   ]
  },
  {
   "cell_type": "code",
   "execution_count": 19,
   "id": "0fd8a367",
   "metadata": {},
   "outputs": [
    {
     "data": {
      "image/png": "[encoded data removed]",
      "text/plain": [
       "<Figure size 1080x720 with 1 Axes>"
      ]
     },
     "metadata": {
      "needs_background": "light"
     },
     "output_type": "display_data"
    }
   ],
   "source": [
    "df.plot(kind='box',figsize=(15,10))\n",
    "plt.show()"
   ]
  },
  {
   "cell_type": "code",
   "execution_count": 20,
   "id": "5300fc84",
   "metadata": {},
   "outputs": [
    {
     "data": {
      "text/plain": [
       "TV            True\n",
       "radio         True\n",
       "newspaper    False\n",
       "sales         True\n",
       "dtype: bool"
      ]
     },
     "execution_count": 20,
     "metadata": {},
     "output_type": "execute_result"
    }
   ],
   "source": [
    "from scipy.stats import zscore\n",
    "\n",
    "(np.abs(zscore(df)<3).all())"
   ]
  },
  {
   "cell_type": "markdown",
   "id": "b8f41de9",
   "metadata": {},
   "source": [
    "we see a few outliers in newspaper"
   ]
  },
  {
   "cell_type": "markdown",
   "id": "f255e6b4",
   "metadata": {},
   "source": [
    "### Removing Outliers"
   ]
  },
  {
   "cell_type": "code",
   "execution_count": 21,
   "id": "d9ca0203",
   "metadata": {},
   "outputs": [
    {
     "data": {
      "text/plain": [
       "(199, 4)"
      ]
     },
     "execution_count": 21,
     "metadata": {},
     "output_type": "execute_result"
    }
   ],
   "source": [
    "z = np.abs(zscore(df))\n",
    "z.shape"
   ]
  },
  {
   "cell_type": "code",
   "execution_count": 22,
   "id": "7e3838e3",
   "metadata": {},
   "outputs": [
    {
     "data": {
      "text/plain": [
       "(197, 4)"
      ]
     },
     "execution_count": 22,
     "metadata": {},
     "output_type": "execute_result"
    }
   ],
   "source": [
    "df = df[(z<3).all(axis=1)]\n",
    "df.shape"
   ]
  },
  {
   "cell_type": "markdown",
   "id": "9ae39b8a",
   "metadata": {},
   "source": [
    "### Percentage Data Loss"
   ]
  },
  {
   "cell_type": "code",
   "execution_count": 23,
   "id": "e19385f9",
   "metadata": {},
   "outputs": [
    {
     "data": {
      "text/plain": [
       "1.0050251256281406"
      ]
     },
     "execution_count": 23,
     "metadata": {},
     "output_type": "execute_result"
    }
   ],
   "source": [
    "percentage_loss = (199-197)/199*100\n",
    "percentage_loss"
   ]
  },
  {
   "cell_type": "markdown",
   "id": "b8f7eba1",
   "metadata": {},
   "source": [
    "### VIF"
   ]
  },
  {
   "cell_type": "code",
   "execution_count": 24,
   "id": "e3096ac3",
   "metadata": {},
   "outputs": [],
   "source": [
    "from statsmodels.stats.outliers_influence import variance_inflation_factor"
   ]
  },
  {
   "cell_type": "code",
   "execution_count": 25,
   "id": "2036ac63",
   "metadata": {},
   "outputs": [],
   "source": [
    "def calculate_vif(dataset):\n",
    "    vif = pd.DataFrame()\n",
    "    vif['Features'] = dataset.columns\n",
    "    vif['Values'] = [variance_inflation_factor(dataset.values,i)for i in range(dataset.shape[1])]\n",
    "    return(vif)"
   ]
  },
  {
   "cell_type": "code",
   "execution_count": 26,
   "id": "8b5bff9b",
   "metadata": {},
   "outputs": [],
   "source": [
    "features = df.drop('sales',axis=1)"
   ]
  },
  {
   "cell_type": "code",
   "execution_count": 27,
   "id": "ea479d61",
   "metadata": {},
   "outputs": [
    {
     "data": {
      "text/html": [
       "<div>\n",
       "<style scoped>\n",
       "    .dataframe tbody tr th:only-of-type {\n",
       "        vertical-align: middle;\n",
       "    }\n",
       "\n",
       "    .dataframe tbody tr th {\n",
       "        vertical-align: top;\n",
       "    }\n",
       "\n",
       "    .dataframe thead th {\n",
       "        text-align: right;\n",
       "    }\n",
       "</style>\n",
       "<table border=\"1\" class=\"dataframe\">\n",
       "  <thead>\n",
       "    <tr style=\"text-align: right;\">\n",
       "      <th></th>\n",
       "      <th>Features</th>\n",
       "      <th>Values</th>\n",
       "    </tr>\n",
       "  </thead>\n",
       "  <tbody>\n",
       "    <tr>\n",
       "      <th>0</th>\n",
       "      <td>TV</td>\n",
       "      <td>2.503884</td>\n",
       "    </tr>\n",
       "    <tr>\n",
       "      <th>1</th>\n",
       "      <td>radio</td>\n",
       "      <td>3.280226</td>\n",
       "    </tr>\n",
       "    <tr>\n",
       "      <th>2</th>\n",
       "      <td>newspaper</td>\n",
       "      <td>3.126006</td>\n",
       "    </tr>\n",
       "  </tbody>\n",
       "</table>\n",
       "</div>"
      ],
      "text/plain": [
       "    Features    Values\n",
       "0         TV  2.503884\n",
       "1      radio  3.280226\n",
       "2  newspaper  3.126006"
      ]
     },
     "execution_count": 27,
     "metadata": {},
     "output_type": "execute_result"
    }
   ],
   "source": [
    "calculate_vif(features)"
   ]
  },
  {
   "cell_type": "markdown",
   "id": "4a1352df",
   "metadata": {},
   "source": [
    "We see that the VIF is below 5"
   ]
  },
  {
   "cell_type": "markdown",
   "id": "79cf98b7",
   "metadata": {},
   "source": [
    "### Splitting the data in x & y"
   ]
  },
  {
   "cell_type": "code",
   "execution_count": 28,
   "id": "2fc815fd",
   "metadata": {},
   "outputs": [
    {
     "data": {
      "text/plain": [
       "(197, 3)"
      ]
     },
     "execution_count": 28,
     "metadata": {},
     "output_type": "execute_result"
    }
   ],
   "source": [
    "x = df.drop('sales',axis=1)\n",
    "x.shape"
   ]
  },
  {
   "cell_type": "code",
   "execution_count": 29,
   "id": "b2778295",
   "metadata": {},
   "outputs": [
    {
     "data": {
      "text/plain": [
       "(197,)"
      ]
     },
     "execution_count": 29,
     "metadata": {},
     "output_type": "execute_result"
    }
   ],
   "source": [
    "y = df['sales']\n",
    "y.shape"
   ]
  },
  {
   "cell_type": "markdown",
   "id": "aa569d5c",
   "metadata": {},
   "source": [
    "### Normalizing the data using Power_Transform"
   ]
  },
  {
   "cell_type": "code",
   "execution_count": 30,
   "id": "073f7b6a",
   "metadata": {},
   "outputs": [],
   "source": [
    "from sklearn.preprocessing import power_transform\n",
    "\n",
    "X = power_transform(x)"
   ]
  },
  {
   "cell_type": "code",
   "execution_count": 31,
   "id": "6d3cfcef",
   "metadata": {},
   "outputs": [
    {
     "data": {
      "text/plain": [
       "numpy.ndarray"
      ]
     },
     "execution_count": 31,
     "metadata": {},
     "output_type": "execute_result"
    }
   ],
   "source": [
    "type(X)"
   ]
  },
  {
   "cell_type": "code",
   "execution_count": 32,
   "id": "af8c1be4",
   "metadata": {},
   "outputs": [
    {
     "data": {
      "text/html": [
       "<div>\n",
       "<style scoped>\n",
       "    .dataframe tbody tr th:only-of-type {\n",
       "        vertical-align: middle;\n",
       "    }\n",
       "\n",
       "    .dataframe tbody tr th {\n",
       "        vertical-align: top;\n",
       "    }\n",
       "\n",
       "    .dataframe thead th {\n",
       "        text-align: right;\n",
       "    }\n",
       "</style>\n",
       "<table border=\"1\" class=\"dataframe\">\n",
       "  <thead>\n",
       "    <tr style=\"text-align: right;\">\n",
       "      <th></th>\n",
       "      <th>TV</th>\n",
       "      <th>radio</th>\n",
       "      <th>newspaper</th>\n",
       "    </tr>\n",
       "  </thead>\n",
       "  <tbody>\n",
       "    <tr>\n",
       "      <th>0</th>\n",
       "      <td>0.951750</td>\n",
       "      <td>0.966429</td>\n",
       "      <td>1.603432</td>\n",
       "    </tr>\n",
       "    <tr>\n",
       "      <th>1</th>\n",
       "      <td>-1.194449</td>\n",
       "      <td>1.044209</td>\n",
       "      <td>0.825675</td>\n",
       "    </tr>\n",
       "    <tr>\n",
       "      <th>2</th>\n",
       "      <td>-1.645315</td>\n",
       "      <td>1.373756</td>\n",
       "      <td>1.606308</td>\n",
       "    </tr>\n",
       "    <tr>\n",
       "      <th>3</th>\n",
       "      <td>0.137667</td>\n",
       "      <td>1.146171</td>\n",
       "      <td>1.280848</td>\n",
       "    </tr>\n",
       "    <tr>\n",
       "      <th>4</th>\n",
       "      <td>0.451397</td>\n",
       "      <td>-0.751124</td>\n",
       "      <td>1.277682</td>\n",
       "    </tr>\n",
       "    <tr>\n",
       "      <th>...</th>\n",
       "      <td>...</td>\n",
       "      <td>...</td>\n",
       "      <td>...</td>\n",
       "    </tr>\n",
       "    <tr>\n",
       "      <th>192</th>\n",
       "      <td>-1.290214</td>\n",
       "      <td>-1.444601</td>\n",
       "      <td>-0.694796</td>\n",
       "    </tr>\n",
       "    <tr>\n",
       "      <th>193</th>\n",
       "      <td>-0.526340</td>\n",
       "      <td>-1.307507</td>\n",
       "      <td>-1.151623</td>\n",
       "    </tr>\n",
       "    <tr>\n",
       "      <th>194</th>\n",
       "      <td>0.411481</td>\n",
       "      <td>-0.879467</td>\n",
       "      <td>-1.318927</td>\n",
       "    </tr>\n",
       "    <tr>\n",
       "      <th>195</th>\n",
       "      <td>1.464671</td>\n",
       "      <td>1.181408</td>\n",
       "      <td>1.516014</td>\n",
       "    </tr>\n",
       "    <tr>\n",
       "      <th>196</th>\n",
       "      <td>0.971435</td>\n",
       "      <td>-0.941858</td>\n",
       "      <td>-1.096911</td>\n",
       "    </tr>\n",
       "  </tbody>\n",
       "</table>\n",
       "<p>197 rows × 3 columns</p>\n",
       "</div>"
      ],
      "text/plain": [
       "           TV     radio  newspaper\n",
       "0    0.951750  0.966429   1.603432\n",
       "1   -1.194449  1.044209   0.825675\n",
       "2   -1.645315  1.373756   1.606308\n",
       "3    0.137667  1.146171   1.280848\n",
       "4    0.451397 -0.751124   1.277682\n",
       "..        ...       ...        ...\n",
       "192 -1.290214 -1.444601  -0.694796\n",
       "193 -0.526340 -1.307507  -1.151623\n",
       "194  0.411481 -0.879467  -1.318927\n",
       "195  1.464671  1.181408   1.516014\n",
       "196  0.971435 -0.941858  -1.096911\n",
       "\n",
       "[197 rows x 3 columns]"
      ]
     },
     "execution_count": 32,
     "metadata": {},
     "output_type": "execute_result"
    }
   ],
   "source": [
    "X = pd.DataFrame(X,columns=x.columns)\n",
    "X"
   ]
  },
  {
   "cell_type": "code",
   "execution_count": 33,
   "id": "54fcddb9",
   "metadata": {},
   "outputs": [
    {
     "data": {
      "text/plain": [
       "TV          -0.325394\n",
       "radio       -0.231984\n",
       "newspaper   -0.102682\n",
       "dtype: float64"
      ]
     },
     "execution_count": 33,
     "metadata": {},
     "output_type": "execute_result"
    }
   ],
   "source": [
    "X.skew()"
   ]
  },
  {
   "cell_type": "markdown",
   "id": "2a640f2b",
   "metadata": {},
   "source": [
    "We see the skewness is well within the threshold"
   ]
  },
  {
   "cell_type": "markdown",
   "id": "68a00c62",
   "metadata": {},
   "source": [
    "### Scalling the Model"
   ]
  },
  {
   "cell_type": "code",
   "execution_count": 34,
   "id": "fcfd8fd5",
   "metadata": {},
   "outputs": [
    {
     "data": {
      "text/plain": [
       "array([[ 9.51749612e-01,  9.66428834e-01,  1.60343150e+00],\n",
       "       [-1.19444895e+00,  1.04420902e+00,  8.25675137e-01],\n",
       "       [-1.64531514e+00,  1.37375644e+00,  1.60630818e+00],\n",
       "       [ 1.37667028e-01,  1.14617073e+00,  1.28084791e+00],\n",
       "       [ 4.51397378e-01, -7.51124115e-01,  1.27768223e+00],\n",
       "       [-1.81770375e+00,  1.51747234e+00,  1.76655521e+00],\n",
       "       [-1.00682685e+00,  6.98180881e-01, -1.09938227e-01],\n",
       "       [-2.15138614e-01, -9.89357219e-02, -8.56560492e-01],\n",
       "       [-1.81992055e+00, -1.65133655e+00, -2.09490024e+00],\n",
       "       [ 6.47895332e-01, -1.58299158e+00, -2.34423997e-01],\n",
       "       [-8.88615348e-01, -1.21179616e+00, -7.33924702e-02],\n",
       "       [ 7.98677518e-01,  1.84507211e-01, -1.59831437e+00],\n",
       "       [-1.52591711e+00,  8.23382157e-01,  1.50714963e+00],\n",
       "       [-4.85738984e-01, -1.03418105e+00, -1.23771980e+00],\n",
       "       [ 6.91694263e-01,  7.03692622e-01,  8.58457533e-01],\n",
       "       [ 6.02829193e-01,  1.46040437e+00,  1.09862160e+00],\n",
       "       [ 1.44409516e+00,  1.05962780e+00,  1.19427677e+00],\n",
       "       [-8.46971537e-01, -3.91612895e-02, -4.02441221e-01],\n",
       "       [ 9.14851089e-02,  1.78294451e-01, -3.54722719e-01],\n",
       "       [ 8.35702367e-01,  4.07949416e-01,  1.11532082e+00],\n",
       "       [ 1.02339387e+00, -1.28576878e+00, -1.09938227e-01],\n",
       "       [-1.72306519e+00, -3.56309471e-01,  9.86109214e-01],\n",
       "       [ 9.33995622e-01, -2.84737209e-01,  2.79228053e-02],\n",
       "       [-9.40339964e-01, -6.05293021e-01, -4.02441221e-01],\n",
       "       [ 1.26941108e+00, -1.46872836e+00, -3.31271602e-01],\n",
       "       [ 4.27443441e-02,  5.01034858e-01, -7.81175056e-01],\n",
       "       [ 1.04974994e+00, -2.98923520e-01, -1.41742751e-01],\n",
       "       [ 1.13416840e+00,  3.72519892e-01, -1.41742751e-01],\n",
       "       [-8.28319275e-01, -3.49078803e-01,  6.63743331e-01],\n",
       "       [ 1.55120628e+00,  4.43089416e-01,  7.55241455e-01],\n",
       "       [-3.00623134e-01, -2.49540918e-01,  5.77184302e-01],\n",
       "       [-4.89415500e-01, -1.73937860e+00,  2.09250911e-01],\n",
       "       [ 1.29509572e+00, -7.22453343e-02, -2.26920731e+00],\n",
       "       [-5.07841333e-01, -1.75482611e+00, -1.21813601e+00],\n",
       "       [ 1.53079945e+00, -1.39752153e+00, -1.11492702e+00],\n",
       "       [ 1.30743869e+00,  1.27099961e+00, -1.47417969e+00],\n",
       "       [-7.74220959e-01,  1.54109140e+00,  8.47570389e-01],\n",
       "       [-1.21542070e+00,  3.48735113e-01,  4.33591866e-01],\n",
       "       [ 9.31033171e-01,  9.61201906e-01,  2.99581593e-01],\n",
       "       [ 6.75424632e-01,  7.75187503e-02,  2.81772012e-01],\n",
       "       [ 4.11481483e-01,  7.31156187e-01,  5.81177787e-01],\n",
       "       [ 1.55769117e+00,  4.07949416e-01, -1.93464040e+00],\n",
       "       [ 7.20088411e-01, -9.60008551e-01,  3.78160101e-02],\n",
       "       [-1.50341829e+00,  2.88675665e-01,  7.58991297e-01],\n",
       "       [ 3.91442090e-01,  9.02610219e-02,  2.77300060e-01],\n",
       "       [-5.82290613e-01, -8.27303640e-01,  4.58757548e-01],\n",
       "       [ 1.04780024e+00,  1.15626172e+00, -3.90406840e-01],\n",
       "       [ 9.23128450e-01, -3.63556949e-01,  9.96508369e-01],\n",
       "       [-8.77822381e-01, -6.77193659e-01,  5.04288906e-01],\n",
       "       [ 6.47895332e-01, -1.51828592e+00,  4.12436608e-01],\n",
       "       [-4.50345055e-01, -8.53240626e-01, -1.65194731e+00],\n",
       "       [ 8.15708905e-01,  1.16633410e+00,  6.16862438e-01],\n",
       "       [ 4.70230413e-01,  1.38828721e+00,  1.28717013e+00],\n",
       "       [ 1.26750585e+00,  4.72157532e-01, -5.52813109e-01],\n",
       "       [ 6.38697940e-01,  1.54109140e+00,  1.32797160e+00],\n",
       "       [-1.84930660e+00,  4.31407736e-01,  6.86894507e-01],\n",
       "       [-3.22133911e-02, -1.25830296e-01, -5.07754997e-01],\n",
       "       [ 7.59475334e-01,  1.55051326e+00,  5.40979686e-01],\n",
       "       [ 7.58467739e-01,  5.12533351e-01, -1.04410832e+00],\n",
       "       [-1.06330271e+00, -1.66551136e+00, -2.23313733e-01],\n",
       "       [ 1.25415891e+00,  1.21642087e+00,  1.15833105e+00],\n",
       "       [ 1.04194863e+00, -3.85401654e-01,  8.18307022e-02],\n",
       "       [-4.22457576e-01,  5.18271499e-01, -1.12401652e+00],\n",
       "       [-8.98982582e-02,  1.22140469e+00,  1.58139037e-01],\n",
       "       [-8.49643863e-01, -8.79467352e-01, -2.11737321e+00],\n",
       "       [-1.39650304e+00,  2.21580991e-01, -1.86438610e+00],\n",
       "       [ 2.58204007e-03, -4.59370285e-01, -9.68112077e-01],\n",
       "       [ 1.02339387e+00,  3.96172162e-01, -9.03450145e-01],\n",
       "       [ 8.19711341e-01,  1.27593509e+00,  7.69802030e-02],\n",
       "       [ 6.40742717e-01,  5.75253883e-01,  5.81177787e-01],\n",
       "       [-3.37345021e-01, -4.74386313e-01,  2.86236103e-01],\n",
       "       [-1.47442325e+00,  7.09197986e-01, -3.42964033e-01],\n",
       "       [-1.09252180e-01, -1.22217407e+00,  2.68332423e-01],\n",
       "       [ 7.85630388e-01,  2.21580991e-01, -7.44673026e-01],\n",
       "       [-1.65098299e+00,  1.26605981e+00,  2.14291641e+00],\n",
       "       [-1.46261670e+00, -1.72417176e+00, -2.62453265e-01],\n",
       "       [-2.11654150e-01,  4.54739845e-01, -6.66900903e-01],\n",
       "       [-1.89449807e+00,  5.35441946e-01, -1.03548090e+00],\n",
       "       [-2.64155564e-01, -1.02476570e+00, -1.31090885e-01],\n",
       "       [-7.52010804e-01,  3.48735113e-01, -1.74008560e-01],\n",
       "       [ 1.04682523e+00, -1.39752153e+00,  5.08390228e-01],\n",
       "       [-7.66367682e-01, -5.23582857e-02,  3.21670339e-01],\n",
       "       [-8.57672570e-01,  1.30545787e+00,  4.54579742e-01],\n",
       "       [ 7.86634729e-01,  1.23135893e+00,  3.78230713e-01],\n",
       "       [ 5.80199634e-01, -1.80254888e-01,  1.50122769e+00],\n",
       "       [-7.53313812e-01,  3.96172162e-01, -5.46311537e-01],\n",
       "       [-3.26657113e-01,  1.11070384e+00,  1.42632753e+00],\n",
       "       [-5.99840811e-01,  2.76558519e-01,  1.72229034e+00],\n",
       "       [-3.37345021e-01,  1.46518095e+00,  1.04798415e+00],\n",
       "       [-5.36387633e-02, -1.30750698e+00, -1.04410832e+00],\n",
       "       [-1.44421182e+00, -1.73937860e+00,  3.43570809e-01],\n",
       "       [ 8.28709969e-01,  7.36630053e-01,  1.29663073e+00],\n",
       "       [ 1.15443206e+00,  8.98059553e-01,  1.69154069e+00],\n",
       "       [-3.65955203e-01, -4.97055615e-01, -9.11394858e-01],\n",
       "       [ 2.65718960e-01,  6.31532812e-01,  1.09862160e+00],\n",
       "       [ 6.25394127e-01, -1.46872836e+00, -1.37226713e+00],\n",
       "       [ 4.94226411e-01, -6.37785712e-03, -1.90320283e-01],\n",
       "       [ 1.52151064e+00,  1.19644071e+00,  1.04116998e+00],\n",
       "       [-4.34803928e-02,  1.16633410e+00,  8.54832925e-01],\n",
       "       [ 8.75550385e-01, -1.37452736e+00,  9.93045899e-01],\n",
       "       [ 1.43285482e+00, -8.10167798e-01, -2.23313733e-01],\n",
       "       [ 5.25411983e-01, -2.63573828e-01, -4.26726375e-01],\n",
       "       [ 1.03121099e+00,  7.80199021e-01, -1.43929061e+00],\n",
       "       [-1.31074589e-02,  1.39795427e+00,  1.29663073e+00],\n",
       "       [-1.50513864e+00, -7.34509092e-01,  1.95415883e-01],\n",
       "       [-5.73541484e-01, -1.94613067e+00, -1.25783959e-01],\n",
       "       [-1.72507561e+00, -1.92661082e+00, -2.00961872e-03],\n",
       "       [ 1.19770966e+00,  3.60644231e-01, -1.41655791e+00],\n",
       "       [ 9.09278139e-01, -9.78311480e-01,  1.21694382e+00],\n",
       "       [ 1.06533278e+00,  9.76866856e-01, -1.25783959e-01],\n",
       "       [ 3.97776256e-01, -3.92717790e-01, -1.83114517e+00],\n",
       "       [ 7.47376156e-01, -3.25808647e-02, -9.27399942e-01],\n",
       "       [-7.28629476e-01,  1.41724048e+00,  4.08185145e-01],\n",
       "       [-7.68983683e-01,  8.18004954e-01,  1.09191704e+00],\n",
       "       [ 1.46269139e-03, -4.74386313e-01, -2.00961872e-03],\n",
       "       [-7.52010804e-01, -1.85347231e+00, -6.25836323e-01],\n",
       "       [-1.51599927e-01,  9.19193942e-01,  1.88026656e+00],\n",
       "       [-1.60444846e+00, -3.49078803e-01, -1.74008560e-01],\n",
       "       [ 2.49264834e-02,  3.54693875e-01,  8.65693504e-01],\n",
       "       [-1.61547716e+00,  3.90318591e-02,  1.01376247e+00],\n",
       "       [ 8.91438474e-01, -1.60985197e+00, -5.72451264e-01],\n",
       "       [-1.81546727e-01,  7.96437261e-01, -7.95991174e-01],\n",
       "       [ 9.45835551e-01,  6.70525593e-01,  1.74449029e+00],\n",
       "       [-6.13679562e-01, -6.69108110e-01,  1.30044562e-02],\n",
       "       [-1.83787427e+00,  1.02358038e+00,  1.02063715e+00],\n",
       "       [ 8.54653098e-01,  1.52220355e+00, -1.70832731e+00],\n",
       "       [-9.77573830e-01, -6.53011004e-01,  7.51486744e-01],\n",
       "       [-2.02723661e+00,  1.05962780e+00, -1.09691126e+00],\n",
       "       [ 1.29129479e+00, -1.54377449e+00,  7.47727147e-01],\n",
       "       [-1.82437194e+00,  3.78445280e-01, -1.88145425e+00],\n",
       "       [ 8.49670105e-01,  7.36630053e-01,  8.25675137e-01],\n",
       "       [-1.31044906e+00,  1.00805560e+00,  1.49826290e+00],\n",
       "       [-1.13833553e+00,  1.42685983e+00, -1.11492702e+00],\n",
       "       [-1.49484159e+00,  1.02874512e+00, -1.04410832e+00],\n",
       "       [ 1.37175499e+00,  4.77948118e-01,  1.31860048e+00],\n",
       "       [-1.21692513e+00,  3.00757242e-01, -2.73768620e-01],\n",
       "       [ 4.94226411e-01,  1.27593509e+00, -1.95309122e+00],\n",
       "       [-7.91291180e-01, -2.77667390e-01, -7.59183314e-01],\n",
       "       [ 5.85348438e-01,  8.39478801e-01,  1.78301662e+00],\n",
       "       [ 8.56645490e-01,  7.20189685e-01,  5.49066546e-01],\n",
       "       [-3.99539063e-01, -1.22217407e+00,  4.03926809e-01],\n",
       "       [-5.01691335e-01, -4.36988041e-01,  5.89147485e-01],\n",
       "       [ 1.37643550e-02, -1.67987285e+00, -1.07028263e+00],\n",
       "       [ 1.04974994e+00, -1.06268836e+00, -1.09691126e+00],\n",
       "       [ 1.07991788e+00,  1.52220355e+00,  7.96225693e-01],\n",
       "       [-1.29331557e+00,  1.09543212e+00, -8.33595431e-01],\n",
       "       [-1.19146653e+00,  2.94720877e-01, -2.68103432e-01],\n",
       "       [ 1.43753978e+00, -5.04651502e-01,  5.12485349e-01],\n",
       "       [-2.05851587e-01, -9.60008551e-01,  9.54697893e-01],\n",
       "       [ 6.25394127e-01,  1.40810149e-01, -6.66900903e-01],\n",
       "       [ 3.51196715e-01,  1.06475746e+00,  5.40979686e-01],\n",
       "       [ 5.24374511e-01,  1.43598539e-04, -1.02690092e+00],\n",
       "       [-1.92741161e+00, -6.85304233e-01, -1.39422293e+00],\n",
       "       [-5.30048976e-01,  1.25616717e+00,  1.01720173e+00],\n",
       "       [ 1.19013968e-01, -1.77052840e+00, -6.82193929e-02],\n",
       "       [-1.75361972e+00,  9.19193942e-01,  8.29335648e-01],\n",
       "       [-8.30826725e-02, -1.80254888e-01,  4.12436608e-01],\n",
       "       [ 3.63930036e-01, -2.00890350e-01,  2.41236842e-01],\n",
       "       [-6.32621849e-01,  8.60860235e-01,  9.75674639e-01],\n",
       "       [ 5.30597242e-01, -2.00890350e-01, -2.00961872e-03],\n",
       "       [ 2.67868669e-01,  9.13918585e-01, -1.21813601e+00],\n",
       "       [-2.50105544e-01, -4.44430107e-01, -1.42787333e+00],\n",
       "       [ 9.95000465e-01, -1.48094987e+00,  2.02669101e+00],\n",
       "       [-1.63218189e+00,  9.55969675e-01, -2.12260215e-01],\n",
       "       [ 7.19076023e-01, -1.27500470e+00, -3.37109600e-01],\n",
       "       [ 8.05694578e-01,  1.59597152e-01,  1.25224599e+00],\n",
       "       [ 1.47120914e+00, -7.67850032e-01, -1.31892697e+00],\n",
       "       [-1.11359275e+00, -6.85304233e-01, -3.96415137e-01],\n",
       "       [ 2.78607225e-01, -1.29109568e-02,  9.08744537e-01],\n",
       "       [-1.60079071e+00, -6.56040038e-02, -4.82467905e-01],\n",
       "       [ 3.20330575e-01, -1.08191826e+00, -7.66483377e-01],\n",
       "       [ 8.75550385e-01, -1.48094987e+00, -7.44673026e-01],\n",
       "       [ 1.40188050e+00,  1.51747234e+00,  7.02224405e-01],\n",
       "       [ 1.13030374e+00,  5.52547093e-01, -2.85144505e-01],\n",
       "       [ 3.39504601e-01, -1.01539272e+00,  4.37802716e-01],\n",
       "       [ 1.40000026e+00, -1.62351430e+00, -9.94361438e-02],\n",
       "       [ 2.90400523e-01, -8.18720435e-01, -4.45134332e-01],\n",
       "       [ 1.93311046e-01, -1.58299158e+00, -1.13316164e+00],\n",
       "       [ 8.36700816e-01, -1.25367883e+00,  8.66713817e-02],\n",
       "       [-1.02507009e+00, -1.22217407e+00,  1.95415883e-01],\n",
       "       [ 1.50197753e+00,  1.23135893e+00,  1.67747609e+00],\n",
       "       [ 1.18234446e+00,  1.31518703e-02,  2.09250911e-01],\n",
       "       [ 7.00831684e-01,  1.33482824e+00, -3.25449914e-01],\n",
       "       [ 4.82012661e-03, -1.65133655e+00,  4.76678864e-02],\n",
       "       [ 5.58537560e-01,  4.66359315e-01, -4.08485239e-01],\n",
       "       [ 1.48707080e+00, -5.04651502e-01, -1.63829603e+00],\n",
       "       [-1.61732352e+00, -6.44998919e-01, -1.15207711e-01],\n",
       "       [-1.27014903e+00,  1.13606099e+00, -1.38319873e+00],\n",
       "       [-7.63753430e-01, -7.51124115e-01, -1.36142601e+00],\n",
       "       [-1.64531514e+00, -1.39752153e+00,  2.81772012e-01],\n",
       "       [ 3.03243291e-01,  1.18140801e+00, -1.65194731e+00],\n",
       "       [ 1.17915062e-01,  8.50180981e-01, -1.36142601e+00],\n",
       "       [-1.29021373e+00, -1.44460053e+00, -6.94796152e-01],\n",
       "       [-5.26340285e-01, -1.30750698e+00, -1.15162258e+00],\n",
       "       [ 4.11481483e-01, -8.79467352e-01, -1.31892697e+00],\n",
       "       [ 1.46467085e+00,  1.18140801e+00,  1.51601353e+00],\n",
       "       [ 9.71434917e-01, -9.41857831e-01, -1.09691126e+00]])"
      ]
     },
     "execution_count": 34,
     "metadata": {},
     "output_type": "execute_result"
    }
   ],
   "source": [
    "from sklearn.preprocessing import StandardScaler\n",
    "sc = StandardScaler()\n",
    "x = sc.fit_transform(X)\n",
    "x"
   ]
  },
  {
   "cell_type": "code",
   "execution_count": 35,
   "id": "1fb887b8",
   "metadata": {},
   "outputs": [],
   "source": [
    "from sklearn.model_selection import train_test_split\n",
    "from sklearn.metrics import r2_score,mean_absolute_error,mean_squared_error"
   ]
  },
  {
   "cell_type": "code",
   "execution_count": 36,
   "id": "b8bcff73",
   "metadata": {},
   "outputs": [
    {
     "name": "stdout",
     "output_type": "stream",
     "text": [
      "At random_state 0 the training accuracy is 0.9063283715563664\n",
      "At random_state 0 the testing accuracy is 0.9035128396422325\n",
      "\n",
      "At random_state 1 the training accuracy is 0.9121334459954556\n",
      "At random_state 1 the testing accuracy is 0.8772185464147984\n",
      "\n",
      "At random_state 2 the training accuracy is 0.9143073341863888\n",
      "At random_state 2 the testing accuracy is 0.8787326703943421\n",
      "\n",
      "At random_state 3 the training accuracy is 0.9038292459974516\n",
      "At random_state 3 the testing accuracy is 0.8991527885282591\n",
      "\n",
      "At random_state 4 the training accuracy is 0.9082908631624187\n",
      "At random_state 4 the testing accuracy is 0.8930260941494106\n",
      "\n",
      "At random_state 5 the training accuracy is 0.9069224561198714\n",
      "At random_state 5 the testing accuracy is 0.8888860086938959\n",
      "\n",
      "At random_state 6 the training accuracy is 0.8996780233253038\n",
      "At random_state 6 the testing accuracy is 0.9267011628110835\n",
      "\n",
      "At random_state 7 the training accuracy is 0.904738081717063\n",
      "At random_state 7 the testing accuracy is 0.9060900405918185\n",
      "\n",
      "At random_state 8 the training accuracy is 0.9106841251200272\n",
      "At random_state 8 the testing accuracy is 0.8877812143403165\n",
      "\n",
      "At random_state 9 the training accuracy is 0.9144979530879247\n",
      "At random_state 9 the testing accuracy is 0.8682187947837421\n",
      "\n",
      "At random_state 10 the training accuracy is 0.9161598782120951\n",
      "At random_state 10 the testing accuracy is 0.8650025117716615\n",
      "\n",
      "At random_state 11 the training accuracy is 0.8970419164203408\n",
      "At random_state 11 the testing accuracy is 0.9275747749872758\n",
      "\n",
      "At random_state 12 the training accuracy is 0.90276340285128\n",
      "At random_state 12 the testing accuracy is 0.9176023168328846\n",
      "\n",
      "At random_state 13 the training accuracy is 0.9087906974625443\n",
      "At random_state 13 the testing accuracy is 0.8950155759704699\n",
      "\n",
      "At random_state 14 the training accuracy is 0.9091808058095836\n",
      "At random_state 14 the testing accuracy is 0.8938310083353214\n",
      "\n",
      "At random_state 15 the training accuracy is 0.9009370143856741\n",
      "At random_state 15 the testing accuracy is 0.9234235317170738\n",
      "\n",
      "At random_state 16 the training accuracy is 0.9041362723109958\n",
      "At random_state 16 the testing accuracy is 0.9060158421035749\n",
      "\n",
      "At random_state 17 the training accuracy is 0.9079235187360987\n",
      "At random_state 17 the testing accuracy is 0.8991939227701266\n",
      "\n",
      "At random_state 18 the training accuracy is 0.9053618073306193\n",
      "At random_state 18 the testing accuracy is 0.9060176783498148\n",
      "\n",
      "At random_state 19 the training accuracy is 0.9189787136348025\n",
      "At random_state 19 the testing accuracy is 0.8641117108529008\n",
      "\n",
      "At random_state 20 the training accuracy is 0.9123443027792942\n",
      "At random_state 20 the testing accuracy is 0.8841268504365059\n",
      "\n",
      "At random_state 21 the training accuracy is 0.9066489280355858\n",
      "At random_state 21 the testing accuracy is 0.9020678722824418\n",
      "\n",
      "At random_state 22 the training accuracy is 0.8990641602484382\n",
      "At random_state 22 the testing accuracy is 0.9303821420067286\n",
      "\n",
      "At random_state 23 the training accuracy is 0.9106056643687788\n",
      "At random_state 23 the testing accuracy is 0.888942711914656\n",
      "\n",
      "At random_state 24 the training accuracy is 0.9123727124060159\n",
      "At random_state 24 the testing accuracy is 0.8769125145727258\n",
      "\n",
      "At random_state 25 the training accuracy is 0.9026732081194262\n",
      "At random_state 25 the testing accuracy is 0.9185734051257096\n",
      "\n",
      "At random_state 26 the training accuracy is 0.9067386732346303\n",
      "At random_state 26 the testing accuracy is 0.9030355336811511\n",
      "\n",
      "At random_state 27 the training accuracy is 0.9043617023386145\n",
      "At random_state 27 the testing accuracy is 0.904803530852984\n",
      "\n",
      "At random_state 28 the training accuracy is 0.9030136515752967\n",
      "At random_state 28 the testing accuracy is 0.915059814601626\n",
      "\n",
      "At random_state 29 the training accuracy is 0.9169004278191685\n",
      "At random_state 29 the testing accuracy is 0.8447154165433641\n",
      "\n",
      "At random_state 30 the training accuracy is 0.9074865603015974\n",
      "At random_state 30 the testing accuracy is 0.896534009975605\n",
      "\n",
      "At random_state 31 the training accuracy is 0.908244594137168\n",
      "At random_state 31 the testing accuracy is 0.8977405119487364\n",
      "\n",
      "At random_state 32 the training accuracy is 0.9132996813523389\n",
      "At random_state 32 the testing accuracy is 0.8791283676206142\n",
      "\n",
      "At random_state 33 the training accuracy is 0.9041294096409284\n",
      "At random_state 33 the testing accuracy is 0.9051990878492703\n",
      "\n",
      "At random_state 34 the training accuracy is 0.9022132969587822\n",
      "At random_state 34 the testing accuracy is 0.9167548896335177\n",
      "\n",
      "At random_state 35 the training accuracy is 0.9022085335588618\n",
      "At random_state 35 the testing accuracy is 0.9142931457152965\n",
      "\n",
      "At random_state 36 the training accuracy is 0.8993932904329964\n",
      "At random_state 36 the testing accuracy is 0.9295266046779017\n",
      "\n",
      "At random_state 37 the training accuracy is 0.9053896010791411\n",
      "At random_state 37 the testing accuracy is 0.9073313052943719\n",
      "\n",
      "At random_state 38 the training accuracy is 0.904621836776028\n",
      "At random_state 38 the testing accuracy is 0.906836341504283\n",
      "\n",
      "At random_state 39 the training accuracy is 0.90611012227409\n",
      "At random_state 39 the testing accuracy is 0.9025570551492688\n",
      "\n",
      "At random_state 40 the training accuracy is 0.9120291022807097\n",
      "At random_state 40 the testing accuracy is 0.8692746694308425\n",
      "\n",
      "At random_state 41 the training accuracy is 0.9001470727892005\n",
      "At random_state 41 the testing accuracy is 0.9087226457241971\n",
      "\n",
      "At random_state 42 the training accuracy is 0.9076739829158096\n",
      "At random_state 42 the testing accuracy is 0.8984789591723367\n",
      "\n",
      "At random_state 43 the training accuracy is 0.8959146897654128\n",
      "At random_state 43 the testing accuracy is 0.9377012740978711\n",
      "\n",
      "At random_state 44 the training accuracy is 0.9100531601864085\n",
      "At random_state 44 the testing accuracy is 0.8674393219882082\n",
      "\n",
      "At random_state 45 the training accuracy is 0.9029809690999193\n",
      "At random_state 45 the testing accuracy is 0.9154540526032725\n",
      "\n",
      "At random_state 46 the training accuracy is 0.9104896246130776\n",
      "At random_state 46 the testing accuracy is 0.8733292277891371\n",
      "\n",
      "At random_state 47 the training accuracy is 0.9019764988672366\n",
      "At random_state 47 the testing accuracy is 0.9225102629707718\n",
      "\n",
      "At random_state 48 the training accuracy is 0.9022922411801005\n",
      "At random_state 48 the testing accuracy is 0.9218577325392399\n",
      "\n",
      "At random_state 49 the training accuracy is 0.9173633123230699\n",
      "At random_state 49 the testing accuracy is 0.8481734705764028\n",
      "\n",
      "At random_state 50 the training accuracy is 0.9087771433501154\n",
      "At random_state 50 the testing accuracy is 0.8886165894774861\n",
      "\n",
      "At random_state 51 the training accuracy is 0.9127562314583664\n",
      "At random_state 51 the testing accuracy is 0.8798933241751686\n",
      "\n",
      "At random_state 52 the training accuracy is 0.9096091850679882\n",
      "At random_state 52 the testing accuracy is 0.8846224118563888\n",
      "\n",
      "At random_state 53 the training accuracy is 0.9070589665454242\n",
      "At random_state 53 the testing accuracy is 0.8944118545698034\n",
      "\n",
      "At random_state 54 the training accuracy is 0.9190794668843351\n",
      "At random_state 54 the testing accuracy is 0.856767841749571\n",
      "\n",
      "At random_state 55 the training accuracy is 0.9058671776083003\n",
      "At random_state 55 the testing accuracy is 0.90450118570665\n",
      "\n",
      "At random_state 56 the training accuracy is 0.8994182715551016\n",
      "At random_state 56 the testing accuracy is 0.9373656063161925\n",
      "\n",
      "At random_state 57 the training accuracy is 0.8993717116256428\n",
      "At random_state 57 the testing accuracy is 0.9320356355625998\n",
      "\n",
      "At random_state 58 the training accuracy is 0.8988253752254499\n",
      "At random_state 58 the testing accuracy is 0.9204022579222676\n",
      "\n",
      "At random_state 59 the training accuracy is 0.9017504773118983\n",
      "At random_state 59 the testing accuracy is 0.9240935737637037\n",
      "\n",
      "At random_state 60 the training accuracy is 0.897460259794708\n",
      "At random_state 60 the testing accuracy is 0.9224954950465605\n",
      "\n",
      "At random_state 61 the training accuracy is 0.91592219166508\n",
      "At random_state 61 the testing accuracy is 0.8702543662399237\n",
      "\n",
      "At random_state 62 the training accuracy is 0.9069281856772834\n",
      "At random_state 62 the testing accuracy is 0.8986086568903247\n",
      "\n",
      "At random_state 63 the training accuracy is 0.9070467023704487\n",
      "At random_state 63 the testing accuracy is 0.8998945763010409\n",
      "\n",
      "At random_state 64 the training accuracy is 0.9001595100491743\n",
      "At random_state 64 the testing accuracy is 0.9242183672842522\n",
      "\n",
      "At random_state 65 the training accuracy is 0.9104457680466705\n",
      "At random_state 65 the testing accuracy is 0.8894532839926901\n",
      "\n",
      "At random_state 66 the training accuracy is 0.9149070430125656\n",
      "At random_state 66 the testing accuracy is 0.850898899297453\n",
      "\n",
      "At random_state 67 the training accuracy is 0.9144565559800097\n",
      "At random_state 67 the testing accuracy is 0.8640934174184682\n",
      "\n",
      "At random_state 68 the training accuracy is 0.9000917117780898\n",
      "At random_state 68 the testing accuracy is 0.9235747282787425\n",
      "\n",
      "At random_state 69 the training accuracy is 0.9107822236244286\n",
      "At random_state 69 the testing accuracy is 0.874173557754119\n",
      "\n",
      "At random_state 70 the training accuracy is 0.9089876118071698\n",
      "At random_state 70 the testing accuracy is 0.8895414483790662\n",
      "\n",
      "At random_state 71 the training accuracy is 0.9023297954534194\n",
      "At random_state 71 the testing accuracy is 0.9140237558262957\n",
      "\n",
      "At random_state 72 the training accuracy is 0.907431437200543\n",
      "At random_state 72 the testing accuracy is 0.8941099694396081\n",
      "\n",
      "At random_state 73 the training accuracy is 0.9051572531793213\n",
      "At random_state 73 the testing accuracy is 0.9103401470494211\n",
      "\n",
      "At random_state 74 the training accuracy is 0.8926094874081543\n",
      "At random_state 74 the testing accuracy is 0.9227728180323067\n",
      "\n",
      "At random_state 75 the training accuracy is 0.9010571448847703\n",
      "At random_state 75 the testing accuracy is 0.9172861436711719\n",
      "\n",
      "At random_state 76 the training accuracy is 0.9145976745995268\n",
      "At random_state 76 the testing accuracy is 0.8604498553888864\n",
      "\n",
      "At random_state 77 the training accuracy is 0.9046267368065406\n",
      "At random_state 77 the testing accuracy is 0.9060848481988144\n",
      "\n",
      "At random_state 78 the training accuracy is 0.9110023565338714\n",
      "At random_state 78 the testing accuracy is 0.8736500151990777\n",
      "\n",
      "At random_state 79 the training accuracy is 0.9007337526239786\n",
      "At random_state 79 the testing accuracy is 0.9259959251655228\n",
      "\n",
      "At random_state 80 the training accuracy is 0.8991352270471352\n",
      "At random_state 80 the testing accuracy is 0.9301543523193142\n",
      "\n",
      "At random_state 81 the training accuracy is 0.9050865178092332\n",
      "At random_state 81 the testing accuracy is 0.9091097053755716\n",
      "\n",
      "At random_state 82 the training accuracy is 0.9214276944863138\n",
      "At random_state 82 the testing accuracy is 0.8504448394383834\n",
      "\n",
      "At random_state 83 the training accuracy is 0.9131150225422436\n",
      "At random_state 83 the testing accuracy is 0.8804804572567827\n",
      "\n",
      "At random_state 84 the training accuracy is 0.9159656689931519\n",
      "At random_state 84 the testing accuracy is 0.8668023533215546\n",
      "\n",
      "At random_state 85 the training accuracy is 0.9162766674041827\n",
      "At random_state 85 the testing accuracy is 0.8059000470999597\n",
      "\n",
      "At random_state 86 the training accuracy is 0.9059694049075522\n",
      "At random_state 86 the testing accuracy is 0.8947269217499849\n",
      "\n",
      "At random_state 87 the training accuracy is 0.9068777058834303\n",
      "At random_state 87 the testing accuracy is 0.8927616846372475\n",
      "\n",
      "At random_state 88 the training accuracy is 0.9097769703604743\n",
      "At random_state 88 the testing accuracy is 0.8902166393302228\n",
      "\n",
      "At random_state 89 the training accuracy is 0.9155485170078805\n",
      "At random_state 89 the testing accuracy is 0.8249522546677792\n",
      "\n",
      "At random_state 90 the training accuracy is 0.8903561870166075\n",
      "At random_state 90 the testing accuracy is 0.9502881575639547\n",
      "\n",
      "At random_state 91 the training accuracy is 0.8982783689586286\n",
      "At random_state 91 the testing accuracy is 0.926969046355642\n",
      "\n",
      "At random_state 92 the training accuracy is 0.9055705729256575\n",
      "At random_state 92 the testing accuracy is 0.8970857134843349\n",
      "\n",
      "At random_state 93 the training accuracy is 0.9103552793911813\n",
      "At random_state 93 the testing accuracy is 0.8742934491548155\n",
      "\n",
      "At random_state 94 the training accuracy is 0.9103998203809105\n",
      "At random_state 94 the testing accuracy is 0.8889118457608981\n",
      "\n",
      "At random_state 95 the training accuracy is 0.9038056945062397\n",
      "At random_state 95 the testing accuracy is 0.9104529762225457\n",
      "\n",
      "At random_state 96 the training accuracy is 0.9253856977816084\n",
      "At random_state 96 the testing accuracy is 0.8529363127731369\n",
      "\n",
      "At random_state 97 the training accuracy is 0.9060397075131545\n",
      "At random_state 97 the testing accuracy is 0.9024803993009967\n",
      "\n",
      "At random_state 98 the training accuracy is 0.9044233781854466\n",
      "At random_state 98 the testing accuracy is 0.9087096549620657\n",
      "\n",
      "At random_state 99 the training accuracy is 0.8975787088287505\n",
      "At random_state 99 the testing accuracy is 0.9403362834683363\n",
      "\n"
     ]
    }
   ],
   "source": [
    "from sklearn.linear_model import LinearRegression\n",
    "lr = LinearRegression()\n",
    "\n",
    "for i in range(0,100):\n",
    "    x_train,x_test,y_train,y_test = train_test_split(x,y,test_size=0.2,random_state=i)\n",
    "    lr.fit(x_train,y_train)\n",
    "    pred_train = lr.predict(x_train)\n",
    "    pred_test = lr.predict(x_test)\n",
    "    print('At random_state',i,'the training accuracy is',r2_score(y_train,pred_train))\n",
    "    print('At random_state',i,'the testing accuracy is',r2_score(y_test,pred_test))\n",
    "    print()"
   ]
  },
  {
   "cell_type": "code",
   "execution_count": 37,
   "id": "df074bdb",
   "metadata": {},
   "outputs": [
    {
     "name": "stdout",
     "output_type": "stream",
     "text": [
      "0.90450118570665\n"
     ]
    }
   ],
   "source": [
    "x_train,x_test,y_train,y_test = train_test_split(x,y,test_size=0.2,random_state=55)\n",
    "lr.fit(x_train,y_train)\n",
    "pred_test = lr.predict(x_test)\n",
    "print(r2_score(y_test,pred_test))"
   ]
  },
  {
   "cell_type": "markdown",
   "id": "1412ac75",
   "metadata": {},
   "source": [
    "### Cross Validation of the Model"
   ]
  },
  {
   "cell_type": "code",
   "execution_count": 38,
   "id": "bed13e6d",
   "metadata": {},
   "outputs": [
    {
     "name": "stdout",
     "output_type": "stream",
     "text": [
      "At cross fold 2 the cv score is 0.9022129576494526 and the accuracy score for training is -1.2533136444611994 and the accuracy for testing is 0.90450118570665\n",
      "\n",
      "At cross fold 3 the cv score is 0.8992268977301769 and the accuracy score for training is -1.2533136444611994 and the accuracy for testing is 0.90450118570665\n",
      "\n",
      "At cross fold 4 the cv score is 0.9002535117911487 and the accuracy score for training is -1.2533136444611994 and the accuracy for testing is 0.90450118570665\n",
      "\n",
      "At cross fold 5 the cv score is 0.8954917094183215 and the accuracy score for training is -1.2533136444611994 and the accuracy for testing is 0.90450118570665\n",
      "\n",
      "At cross fold 6 the cv score is 0.9001610076118327 and the accuracy score for training is -1.2533136444611994 and the accuracy for testing is 0.90450118570665\n",
      "\n",
      "At cross fold 7 the cv score is 0.8967749648546117 and the accuracy score for training is -1.2533136444611994 and the accuracy for testing is 0.90450118570665\n",
      "\n",
      "At cross fold 8 the cv score is 0.898547956709125 and the accuracy score for training is -1.2533136444611994 and the accuracy for testing is 0.90450118570665\n",
      "\n",
      "At cross fold 9 the cv score is 0.8928785991358124 and the accuracy score for training is -1.2533136444611994 and the accuracy for testing is 0.90450118570665\n",
      "\n"
     ]
    }
   ],
   "source": [
    "Training_Accuracy = r2_score(y_train,pred_train)\n",
    "Testing_Accuracy = r2_score(y_test,pred_test)\n",
    "\n",
    "from sklearn.model_selection import cross_val_score\n",
    "\n",
    "for j in range(2,10):\n",
    "    cv = cross_val_score(lr,x,y,cv=j)\n",
    "    cv_score = cv.mean()\n",
    "    print(f\"At cross fold {j} the cv score is {cv_score} and the accuracy score for training is {Training_Accuracy} and the accuracy for testing is {Testing_Accuracy}\")\n",
    "    print()"
   ]
  },
  {
   "cell_type": "markdown",
   "id": "85b4e238",
   "metadata": {},
   "source": [
    "cv is highest at 2 folds"
   ]
  },
  {
   "cell_type": "code",
   "execution_count": 39,
   "id": "fe3e7232",
   "metadata": {},
   "outputs": [],
   "source": [
    "def Model_reg(model):\n",
    "    model.fit(x_train,y_train)\n",
    "    pred = model.predict(x_test)\n",
    "    cv_score = cross_val_score(lr,x,y,cv=2)\n",
    "    cv_score = cv.mean()*100\n",
    "    print('Model Report :-')\n",
    "    print('RMSE',np.sqrt(mean_squared_error(y_test,pred)))\n",
    "    print('MAE', mean_absolute_error(y_test,pred))\n",
    "    r2_Score = r2_score(y_test,pred)*100\n",
    "    print('r2_score :', r2_Score)\n",
    "    print('cv_score :', cv_score)\n",
    "    coef = pd.Series(model.coef_,X.columns).sort_values(ascending=False)\n",
    "    coef.plot(kind='bar',title = 'Model Coefficient')\n",
    "    print('Difference between r2_score and cv is ',r2_Score-cv_score)"
   ]
  },
  {
   "cell_type": "code",
   "execution_count": 40,
   "id": "48b25b5c",
   "metadata": {},
   "outputs": [],
   "source": [
    "def Model_tree(model):\n",
    "    model.fit(x_train,y_train)\n",
    "    pred = model.predict(x_test)\n",
    "    cv_score = cross_val_score(lr,x,y,cv=2)\n",
    "    cv_score = cv.mean()*100\n",
    "    print('Model Report :-')\n",
    "    print('RMSE',np.sqrt(mean_squared_error(y_test,pred)))\n",
    "    print('MAE', mean_absolute_error(y_test,pred))\n",
    "    r2_Score = r2_score(y_test,pred)*100\n",
    "    print('r2_score :', r2_Score)\n",
    "    print('cv_score :', cv_score)\n",
    "    coef = pd.Series(model.feature_importances_,X.columns).sort_values(ascending=False)\n",
    "    coef.plot(kind='bar',title = 'Model Coefficient')\n",
    "    print('Difference between r2_score and cv is ',r2_Score-cv_score)"
   ]
  },
  {
   "cell_type": "code",
   "execution_count": 41,
   "id": "2fa9c4aa",
   "metadata": {},
   "outputs": [
    {
     "name": "stdout",
     "output_type": "stream",
     "text": [
      "Model Report :-\n",
      "RMSE 1.5907840310512318\n",
      "MAE 1.2481706010275215\n",
      "r2_score : 90.450118570665\n",
      "cv_score : 89.28785991358123\n",
      "Difference between r2_score and cv is  1.1622586570837683\n"
     ]
    },
    {
     "data": {
      "image/png": "[encoded data removed]",
      "text/plain": [
       "<Figure size 432x288 with 1 Axes>"
      ]
     },
     "metadata": {
      "needs_background": "light"
     },
     "output_type": "display_data"
    }
   ],
   "source": [
    "from sklearn.linear_model import LinearRegression\n",
    "lr = LinearRegression()\n",
    "Model_reg(lr)"
   ]
  },
  {
   "cell_type": "code",
   "execution_count": 57,
   "id": "b6fe4c3c",
   "metadata": {},
   "outputs": [
    {
     "name": "stdout",
     "output_type": "stream",
     "text": [
      "Model Report :-\n",
      "RMSE 1.5901320251733488\n",
      "MAE 1.2473237729746631\n",
      "r2_score : 90.45794528086164\n",
      "cv_score : 89.28785991358123\n",
      "Difference between r2_score and cv is  1.1700853672804072\n"
     ]
    },
    {
     "data": {
      "image/png": "[encoded data removed]",
      "text/plain": [
       "<Figure size 432x288 with 1 Axes>"
      ]
     },
     "metadata": {
      "needs_background": "light"
     },
     "output_type": "display_data"
    }
   ],
   "source": [
    "from sklearn.linear_model import Ridge\n",
    "ridge = Ridge()\n",
    "Model_reg(ridge)"
   ]
  },
  {
   "cell_type": "code",
   "execution_count": 43,
   "id": "1f1c92bd",
   "metadata": {},
   "outputs": [
    {
     "name": "stdout",
     "output_type": "stream",
     "text": [
      "Model Report :-\n",
      "RMSE 2.1375707428158273\n",
      "MAE 1.6165405629312943\n",
      "r2_score : 82.75685313529009\n",
      "cv_score : 89.28785991358123\n",
      "Difference between r2_score and cv is  -6.531006778291143\n"
     ]
    },
    {
     "data": {
      "image/png": "[encoded data removed]",
      "text/plain": [
       "<Figure size 432x288 with 1 Axes>"
      ]
     },
     "metadata": {
      "needs_background": "light"
     },
     "output_type": "display_data"
    }
   ],
   "source": [
    "from sklearn.linear_model import Lasso\n",
    "lasso = Lasso()\n",
    "Model_reg(lasso)"
   ]
  },
  {
   "cell_type": "code",
   "execution_count": 44,
   "id": "e5e696a5",
   "metadata": {},
   "outputs": [
    {
     "name": "stdout",
     "output_type": "stream",
     "text": [
      "Model Report :-\n",
      "RMSE 1.0692286939658888\n",
      "MAE 0.8574999999999999\n",
      "r2_score : 95.68563639103908\n",
      "cv_score : 89.28785991358123\n",
      "Difference between r2_score and cv is  6.397776477457853\n"
     ]
    },
    {
     "data": {
      "image/png": "[encoded data removed]",
      "text/plain": [
       "<Figure size 432x288 with 1 Axes>"
      ]
     },
     "metadata": {
      "needs_background": "light"
     },
     "output_type": "display_data"
    }
   ],
   "source": [
    "from sklearn.tree import DecisionTreeRegressor\n",
    "dtc = DecisionTreeRegressor()\n",
    "Model_tree(dtc)"
   ]
  },
  {
   "cell_type": "code",
   "execution_count": 45,
   "id": "8bae175f",
   "metadata": {},
   "outputs": [
    {
     "name": "stdout",
     "output_type": "stream",
     "text": [
      "Model Report :-\n",
      "RMSE 0.6118949664770917\n",
      "MAE 0.5119\n",
      "r2_score : 98.58704186126155\n",
      "cv_score : 89.28785991358123\n",
      "Difference between r2_score and cv is  9.299181947680324\n"
     ]
    },
    {
     "data": {
      "image/png": "[encoded data removed]",
      "text/plain": [
       "<Figure size 432x288 with 1 Axes>"
      ]
     },
     "metadata": {
      "needs_background": "light"
     },
     "output_type": "display_data"
    }
   ],
   "source": [
    "from sklearn.ensemble import RandomForestRegressor\n",
    "rf = RandomForestRegressor()\n",
    "Model_tree(rf)"
   ]
  },
  {
   "cell_type": "code",
   "execution_count": 46,
   "id": "73f6b3cd",
   "metadata": {},
   "outputs": [
    {
     "name": "stdout",
     "output_type": "stream",
     "text": [
      "Model Report :-\n",
      "RMSE 0.38209190648324687\n",
      "MAE 0.29072500000000046\n",
      "r2_score : 99.44905123861058\n",
      "cv_score : 89.28785991358123\n",
      "Difference between r2_score and cv is  10.16119132502935\n"
     ]
    },
    {
     "data": {
      "image/png": "[encoded data removed]",
      "text/plain": [
       "<Figure size 432x288 with 1 Axes>"
      ]
     },
     "metadata": {
      "needs_background": "light"
     },
     "output_type": "display_data"
    }
   ],
   "source": [
    "from sklearn.ensemble import ExtraTreesRegressor\n",
    "et =ExtraTreesRegressor()\n",
    "Model_tree(et)"
   ]
  },
  {
   "cell_type": "code",
   "execution_count": 47,
   "id": "713e4dc5",
   "metadata": {},
   "outputs": [
    {
     "name": "stdout",
     "output_type": "stream",
     "text": [
      "Model Report :-\n",
      "RMSE 0.7768999003154525\n",
      "MAE 0.6240535806293399\n",
      "r2_score : 97.72225204455538\n",
      "cv_score : 89.28785991358123\n",
      "Difference between r2_score and cv is  8.434392130974146\n"
     ]
    },
    {
     "data": {
      "image/png": "[encoded data removed]",
      "text/plain": [
       "<Figure size 432x288 with 1 Axes>"
      ]
     },
     "metadata": {
      "needs_background": "light"
     },
     "output_type": "display_data"
    }
   ],
   "source": [
    "from sklearn.ensemble import AdaBoostRegressor\n",
    "ad = AdaBoostRegressor()\n",
    "Model_tree(ad)"
   ]
  },
  {
   "cell_type": "markdown",
   "id": "a30364b2",
   "metadata": {},
   "source": [
    "### Hyper Parameter Tuning"
   ]
  },
  {
   "cell_type": "code",
   "execution_count": 48,
   "id": "a7bf4c8c",
   "metadata": {},
   "outputs": [
    {
     "data": {
      "text/plain": [
       "{'alpha': 0.001, 'solver': 'saga'}"
      ]
     },
     "execution_count": 48,
     "metadata": {},
     "output_type": "execute_result"
    }
   ],
   "source": [
    "from sklearn.model_selection import GridSearchCV\n",
    "parameters = {'alpha':[0.0001,0.001,0.01,0.1,1,10],'solver':['auto', 'svd', 'cholesky', 'lsqr', 'sparse_cg','sag', 'saga', 'lbfgs']}\n",
    "gcv = GridSearchCV(ridge,parameters,cv=2)\n",
    "gcv.fit(x_train,y_train)\n",
    "gcv.best_params_"
   ]
  },
  {
   "cell_type": "code",
   "execution_count": 49,
   "id": "c4f88e1d",
   "metadata": {},
   "outputs": [
    {
     "data": {
      "text/plain": [
       "Ridge(alpha=0.001, solver='saga')"
      ]
     },
     "execution_count": 49,
     "metadata": {},
     "output_type": "execute_result"
    }
   ],
   "source": [
    "gcv.best_estimator_"
   ]
  },
  {
   "cell_type": "code",
   "execution_count": 54,
   "id": "94aaeea6",
   "metadata": {},
   "outputs": [
    {
     "name": "stdout",
     "output_type": "stream",
     "text": [
      "Model Report :-\n",
      "RMSE 1.5911578493453633\n",
      "MAE 1.248321344880787\n",
      "r2_score : 90.44562979058784\n",
      "cv_score : 89.28785991358123\n",
      "Difference between r2_score and cv is  1.157769877006615\n"
     ]
    },
    {
     "data": {
      "image/png": "[encoded data removed]",
      "text/plain": [
       "<Figure size 432x288 with 1 Axes>"
      ]
     },
     "metadata": {
      "needs_background": "light"
     },
     "output_type": "display_data"
    }
   ],
   "source": [
    "ridge = Ridge(alpha=0.01, solver='saga')\n",
    "\n",
    "Model_reg(ridge)"
   ]
  },
  {
   "cell_type": "markdown",
   "id": "948f08ba",
   "metadata": {},
   "source": [
    "### Best Model : Ridge(with Hyper Parameter Tuning)"
   ]
  },
  {
   "cell_type": "code",
   "execution_count": 51,
   "id": "f7ba411b",
   "metadata": {},
   "outputs": [
    {
     "name": "stdout",
     "output_type": "stream",
     "text": [
      "Model Report :-\n",
      "RMSE 1.591451456728326\n",
      "MAE 1.248377268131934\n",
      "r2_score : 90.44210343718278\n",
      "cv_score : 89.28785991358123\n",
      "Difference between r2_score and cv is  1.1542435236015507\n"
     ]
    },
    {
     "data": {
      "image/png": "[encoded data removed]",
      "text/plain": [
       "<Figure size 432x288 with 1 Axes>"
      ]
     },
     "metadata": {
      "needs_background": "light"
     },
     "output_type": "display_data"
    }
   ],
   "source": [
    "ridge = Ridge(alpha=0.01, solver='saga')\n",
    "\n",
    "Model_reg(ridge)"
   ]
  },
  {
   "cell_type": "markdown",
   "id": "26e007df",
   "metadata": {},
   "source": [
    "### Saving the File"
   ]
  },
  {
   "cell_type": "code",
   "execution_count": 58,
   "id": "24584bdd",
   "metadata": {},
   "outputs": [],
   "source": [
    "import pickle\n",
    "filename = 'Advertising_Sales_Channel_Prediction.pkl'\n",
    "pickle.dump(ridge,open(filename,'wb'))"
   ]
  },
  {
   "cell_type": "code",
   "execution_count": null,
   "id": "32edf6dd",
   "metadata": {},
   "outputs": [],
   "source": []
  }
 ],
 "metadata": {
  "kernelspec": {
   "display_name": "Python 3 (ipykernel)",
   "language": "python",
   "name": "python3"
  },
  "language_info": {
   "codemirror_mode": {
    "name": "ipython",
    "version": 3
   },
   "file_extension": ".py",
   "mimetype": "text/x-python",
   "name": "python",
   "nbconvert_exporter": "python",
   "pygments_lexer": "ipython3",
   "version": "3.9.7"
  }
 },
 "nbformat": 4,
 "nbformat_minor": 5
}
